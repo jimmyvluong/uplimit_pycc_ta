{
 "cells": [
  {
   "cell_type": "code",
   "execution_count": 2,
   "metadata": {},
   "outputs": [
    {
     "name": "stdout",
     "output_type": "stream",
     "text": [
      "Finding tests in calculate_score\n",
      "Trying:\n",
      "    product_of_numbers(1)\n",
      "Expecting:\n",
      "    1\n",
      "ok\n",
      "Trying:\n",
      "    product_of_numbers(2)\n",
      "Expecting:\n",
      "    2\n",
      "ok\n",
      "Trying:\n",
      "    product_of_numbers(3)\n",
      "Expecting:\n",
      "    6\n",
      "ok\n",
      "Trying:\n",
      "    product_of_numbers(10)\n",
      "Expecting:\n",
      "    3628800\n",
      "ok\n"
     ]
    }
   ],
   "source": [
    "def product_of_numbers(end):\n",
    "    \"\"\"Returns the product of all the numbers from 1 to the end number,\n",
    "    including the end number.\n",
    "\n",
    "    >>> product_of_numbers(1)\n",
    "    1\n",
    "    >>> product_of_numbers(2)\n",
    "    2\n",
    "    >>> product_of_numbers(3)\n",
    "    6\n",
    "    >>> product_of_numbers(10)\n",
    "    3628800\n",
    "    \"\"\"\n",
    "    result = 1\n",
    "    counter = 1\n",
    "    while counter <= end:\n",
    "        result *= counter\n",
    "        counter += 1\n",
    "    return result\n",
    "\n",
    "# This code runs the doctests to see if they pass/fail\n",
    "import doctest\n",
    "doctest.run_docstring_examples(product_of_numbers, globals(),\n",
    "    verbose=True, name=\"calculate_score\")"
   ]
  },
  {
   "cell_type": "code",
   "execution_count": 3,
   "metadata": {},
   "outputs": [],
   "source": [
    "nums = [1, 2, 3]\n",
    "nums = [-1, -2, -3]"
   ]
  },
  {
   "cell_type": "code",
   "execution_count": 4,
   "metadata": {},
   "outputs": [
    {
     "data": {
      "text/plain": [
       "-1"
      ]
     },
     "execution_count": 4,
     "metadata": {},
     "output_type": "execute_result"
    }
   ],
   "source": [
    "nums[0]"
   ]
  },
  {
   "cell_type": "code",
   "execution_count": 5,
   "metadata": {},
   "outputs": [],
   "source": [
    "nums = [1, 2, 3]\n",
    "nums[0] = -1\n",
    "nums[1] = -2\n",
    "nums[2] = -3"
   ]
  },
  {
   "cell_type": "code",
   "execution_count": 6,
   "metadata": {},
   "outputs": [
    {
     "data": {
      "text/plain": [
       "-1"
      ]
     },
     "execution_count": 6,
     "metadata": {},
     "output_type": "execute_result"
    }
   ],
   "source": [
    "nums[0]"
   ]
  },
  {
   "cell_type": "markdown",
   "metadata": {},
   "source": [
    "- return and how to use it in functions\n",
    "- Doctests\n",
    "- When to use while loops versus for loops\n",
    "- try and except blocks\n"
   ]
  },
  {
   "cell_type": "code",
   "execution_count": null,
   "metadata": {},
   "outputs": [],
   "source": [
    "questions = [\n",
    "    { \"text\": \"Do you like computers?\", \"score\": 13, \"type\": \"boolean\" },\n",
    "    { \"text\": \"Are you interested in Data Analysis?\", \"score\": 13, \"type\": \"boolean\" },\n",
    "    {\n",
    "        \"text\": \"Are you interested in Frontend or Backend Development?\",\n",
    "        \"type\": \"bucket\",\n",
    "        \"choices\": [\n",
    "            { \"text\": \"Backend\", \"score\": 8 },\n",
    "            { \"text\": \"Frontend\", \"score\": -21 },\n",
    "        ],\n",
    "    },\n",
    "    {\n",
    "        \"text\": \"What's a killer feature that matters to you in a programming language?\",\n",
    "        \"type\": \"bucket\",\n",
    "        \"choices\": [\n",
    "            { \"text\": \"Cross-platform\", \"score\": 8 },\n",
    "            { \"text\": \"Readable / Looks like plain english\", \"score\": 13 },\n",
    "            { \"text\": \"Max performance\", \"score\": 3 },\n",
    "            { \"text\": \"Widespread Adoption (plugins/tutorials)\", \"score\": 21 },\n",
    "            { \"text\": \"Usable in a browser\", \"score\": -21 },\n",
    "        ],\n",
    "    },\n",
    "    {\n",
    "        \"text\": \"How many programming languages do you plan on learning?\",\n",
    "        \"type\": \"scale\",\n",
    "        \"formula\": lambda answer: 2**answer - 2 if answer > 0 else -31\n",
    "    },\n",
    "]\n",
    "\n",
    "def check_yes(answer):\n",
    "  cleaned = answer.strip().lower()\n",
    "  return cleaned == \"yes\" or cleaned == \"y\"\n",
    "\n",
    "def calculate_score(answers):\n",
    "  \"\"\" Calculates score based on answers given to questions.\n",
    "  >>> calculate_score([\"n\", \"n\", 1, 4, 0])\n",
    "  -73\n",
    "  >>> calculate_score([\"n\", \"n\", 0, 4, 2])\n",
    "  -11\n",
    "  >>> calculate_score([\"y\", \"y\", 0, 0, 0])\n",
    "  11\n",
    "  >>> calculate_score([\"y\", \"y\", 0, 3, 3])\n",
    "  61\n",
    "  >>> calculate_score([\"y\", \"n\", 1, 0, 1])\n",
    "  0\n",
    "  \"\"\"\n",
    "  score = 0\n",
    "  for idx, question in enumerate(questions):\n",
    "    if (question[\"type\"] == \"boolean\"):\n",
    "      score += question[\"score\"] if check_yes(answers[idx]) else 0\n",
    "    elif (question[\"type\"] == \"bucket\"):\n",
    "      score += question[\"choices\"][answers[idx]][\"score\"]\n",
    "    elif (question[\"type\"] == \"scale\"):\n",
    "      score += question[\"formula\"](answers[idx])\n",
    "  return score\n",
    "\n",
    "\n",
    "# This code runs the doctests to see if they pass/fail\n",
    "import doctest\n",
    "doctest.run_docstring_examples(calculate_score, globals(),\n",
    "    verbose=True, name=\"calculate_score\")"
   ]
  },
  {
   "cell_type": "code",
   "execution_count": 4,
   "metadata": {},
   "outputs": [
    {
     "name": "stdout",
     "output_type": "stream",
     "text": [
      "Finding tests in add_to_sequence\n",
      "Trying:\n",
      "    nums = [1, 2, 3]\n",
      "Expecting nothing\n",
      "ok\n",
      "Trying:\n",
      "    add_to_sequence(nums)\n",
      "Expecting nothing\n",
      "ok\n",
      "Trying:\n",
      "    nums\n",
      "Expecting:\n",
      "    [1, 2, 3, 4]\n",
      "ok\n",
      "Trying:\n",
      "    nums2 = [26, 27]\n",
      "Expecting nothing\n",
      "ok\n",
      "Trying:\n",
      "    add_to_sequence(nums2)\n",
      "Expecting nothing\n",
      "ok\n",
      "Trying:\n",
      "    nums2\n",
      "Expecting:\n",
      "    [26, 27, 28]\n",
      "ok\n"
     ]
    }
   ],
   "source": [
    "def add_to_sequence(sequence):\n",
    "    \"\"\"\n",
    "    >>> nums = [1, 2, 3]\n",
    "    >>> add_to_sequence(nums)\n",
    "    >>> nums\n",
    "    [1, 2, 3, 4]\n",
    "    >>> nums2 = [26, 27]\n",
    "    >>> add_to_sequence(nums2)\n",
    "    >>> nums2\n",
    "    [26, 27, 28]\n",
    "    \"\"\"\n",
    "    last_item = sequence[-1]\n",
    "    new_item_value = last_item + 1\n",
    "    sequence.append(new_item_value)\n",
    "    return\n",
    "# This code runs the doctests to see if they pass/fail\n",
    "import doctest\n",
    "doctest.run_docstring_examples(add_to_sequence, globals(),\n",
    "    verbose=True, name=\"add_to_sequence\")"
   ]
  },
  {
   "cell_type": "code",
   "execution_count": 7,
   "metadata": {},
   "outputs": [
    {
     "name": "stdout",
     "output_type": "stream",
     "text": [
      "Finding tests in double_time\n",
      "Trying:\n",
      "    nums = [1, 2, 3]\n",
      "Expecting nothing\n",
      "ok\n",
      "Trying:\n",
      "    double_time(nums)\n",
      "Expecting nothing\n",
      "ok\n",
      "Trying:\n",
      "    nums\n",
      "Expecting:\n",
      "    [1, 4, 6]\n",
      "**********************************************************************\n",
      "File \"__main__\", line 5, in double_time\n",
      "Failed example:\n",
      "    nums\n",
      "Expected:\n",
      "    [1, 4, 6]\n",
      "Got:\n",
      "    [4, 2, 6]\n",
      "Trying:\n",
      "    nums2 = [-1, -4]\n",
      "Expecting nothing\n",
      "ok\n",
      "Trying:\n",
      "    double_time(nums2)\n",
      "Expecting nothing\n",
      "ok\n",
      "Trying:\n",
      "    nums2\n",
      "Expecting:\n",
      "    [-2, -8]\n",
      "ok\n"
     ]
    }
   ],
   "source": [
    "def double_time(sequence):\n",
    "    \"\"\"\n",
    "    >>> nums = [1, 2, 3]\n",
    "    >>> double_time(nums)\n",
    "    >>> nums\n",
    "    [1, 4, 6]\n",
    "    >>> nums2 = [-1, -4]\n",
    "    >>> double_time(nums2)\n",
    "    >>> nums2\n",
    "    [-2, -8]\n",
    "    \"\"\"\n",
    "    for item in sequence:\n",
    "        i = sequence.index(item)\n",
    "        new_value = item * 2\n",
    "        sequence[i] = new_value\n",
    "    # return sequence\n",
    "    # return\n",
    "import doctest\n",
    "doctest.run_docstring_examples(double_time, globals(),\n",
    "    verbose=True, name=\"double_time\")"
   ]
  },
  {
   "cell_type": "code",
   "execution_count": 8,
   "metadata": {},
   "outputs": [
    {
     "name": "stdout",
     "output_type": "stream",
     "text": [
      "Finding tests in double_time\n",
      "Trying:\n",
      "    nums = [1, 2, 3]\n",
      "Expecting nothing\n",
      "ok\n",
      "Trying:\n",
      "    double_time(nums)\n",
      "Expecting nothing\n",
      "ok\n",
      "Trying:\n",
      "    nums\n",
      "Expecting:\n",
      "    [1, 4, 6]\n",
      "**********************************************************************\n",
      "File \"__main__\", line 5, in double_time\n",
      "Failed example:\n",
      "    nums\n",
      "Expected:\n",
      "    [1, 4, 6]\n",
      "Got:\n",
      "    [1, 2, 3]\n",
      "Trying:\n",
      "    nums2 = [-1, -4]\n",
      "Expecting nothing\n",
      "ok\n",
      "Trying:\n",
      "    double_time(nums2)\n",
      "Expecting nothing\n",
      "ok\n",
      "Trying:\n",
      "    nums2\n",
      "Expecting:\n",
      "    [-2, -8]\n",
      "**********************************************************************\n",
      "File \"__main__\", line 9, in double_time\n",
      "Failed example:\n",
      "    nums2\n",
      "Expected:\n",
      "    [-2, -8]\n",
      "Got:\n",
      "    [-1, -4]\n"
     ]
    }
   ],
   "source": [
    "def double_time(sequence):\n",
    "    \"\"\"\n",
    "    >>> nums = [1, 2, 3]\n",
    "    >>> double_time(nums)\n",
    "    >>> nums\n",
    "    [1, 4, 6]\n",
    "    >>> nums2 = [-1, -4]\n",
    "    >>> double_time(nums2)\n",
    "    >>> nums2\n",
    "    [-2, -8]\n",
    "    \"\"\"\n",
    "    sequence = sequence*2\n",
    "    # return sequence\n",
    "    # return\n",
    "import doctest\n",
    "doctest.run_docstring_examples(double_time, globals(),\n",
    "    verbose=True, name=\"double_time\")"
   ]
  },
  {
   "cell_type": "code",
   "execution_count": 14,
   "metadata": {},
   "outputs": [
    {
     "name": "stdout",
     "output_type": "stream",
     "text": [
      "[2, 2, 3]\n"
     ]
    }
   ],
   "source": [
    "new_list = [1,2,3]\n",
    "new_list[0] = new_list[0]*2\n",
    "print(new_list)"
   ]
  },
  {
   "cell_type": "code",
   "execution_count": 18,
   "metadata": {},
   "outputs": [
    {
     "name": "stdout",
     "output_type": "stream",
     "text": [
      "[2, 4, 6]\n"
     ]
    }
   ],
   "source": [
    "new_list = [1,2,3]\n",
    "i = 0\n",
    "while i < len(new_list):\n",
    "    new_list[i] = new_list[i]*2\n",
    "    i += 1\n",
    "print(new_list)"
   ]
  },
  {
   "cell_type": "code",
   "execution_count": 16,
   "metadata": {},
   "outputs": [
    {
     "name": "stdout",
     "output_type": "stream",
     "text": [
      "1\n",
      "4\n"
     ]
    },
    {
     "ename": "IndexError",
     "evalue": "list index out of range",
     "output_type": "error",
     "traceback": [
      "\u001b[1;31m---------------------------------------------------------------------------\u001b[0m",
      "\u001b[1;31mIndexError\u001b[0m                                Traceback (most recent call last)",
      "\u001b[1;32m~\\AppData\\Local\\Temp/ipykernel_26144/2770127937.py\u001b[0m in \u001b[0;36m<module>\u001b[1;34m\u001b[0m\n\u001b[0;32m      3\u001b[0m \u001b[1;32mfor\u001b[0m \u001b[0mi\u001b[0m \u001b[1;32min\u001b[0m \u001b[0mnew_list\u001b[0m\u001b[1;33m:\u001b[0m\u001b[1;33m\u001b[0m\u001b[1;33m\u001b[0m\u001b[0m\n\u001b[0;32m      4\u001b[0m     \u001b[0mprint\u001b[0m\u001b[1;33m(\u001b[0m\u001b[0mi\u001b[0m\u001b[1;33m)\u001b[0m\u001b[1;33m\u001b[0m\u001b[1;33m\u001b[0m\u001b[0m\n\u001b[1;32m----> 5\u001b[1;33m     \u001b[0mnew_list\u001b[0m\u001b[1;33m[\u001b[0m\u001b[0mi\u001b[0m\u001b[1;33m]\u001b[0m \u001b[1;33m=\u001b[0m \u001b[0mnew_list\u001b[0m\u001b[1;33m[\u001b[0m\u001b[0mi\u001b[0m\u001b[1;33m]\u001b[0m\u001b[1;33m*\u001b[0m\u001b[1;36m2\u001b[0m\u001b[1;33m\u001b[0m\u001b[1;33m\u001b[0m\u001b[0m\n\u001b[0m\u001b[0;32m      6\u001b[0m \u001b[0mprint\u001b[0m\u001b[1;33m(\u001b[0m\u001b[0mnew_list\u001b[0m\u001b[1;33m)\u001b[0m\u001b[1;33m\u001b[0m\u001b[1;33m\u001b[0m\u001b[0m\n",
      "\u001b[1;31mIndexError\u001b[0m: list index out of range"
     ]
    }
   ],
   "source": [
    "new_list = [1,2,3]\n",
    "i = 0\n",
    "for i in new_list:\n",
    "    print(i)\n",
    "    new_list[i] = new_list[i]*2\n",
    "print(new_list)"
   ]
  },
  {
   "cell_type": "code",
   "execution_count": 22,
   "metadata": {},
   "outputs": [
    {
     "name": "stdout",
     "output_type": "stream",
     "text": [
      "15\n",
      "30\n",
      "45\n",
      "60\n"
     ]
    }
   ],
   "source": [
    "lst = ['Yes', 20, False, True, 'turkey']\n",
    "score = 0\n",
    "for value in lst:\n",
    "    if value:\n",
    "        score += 15\n",
    "        print(score)"
   ]
  },
  {
   "cell_type": "code",
   "execution_count": null,
   "metadata": {},
   "outputs": [],
   "source": [
    "if ops_years >= 2: \n",
    "    score += 15\n",
    "if ops_years > 5: \n",
    "    score += 50\n",
    "elif ops_years > 10: \n",
    "    score += 75\n",
    "elif ops_years > 15: \n",
    "    score += 100\n",
    "else: \n",
    "    score += 0"
   ]
  }
 ],
 "metadata": {
  "kernelspec": {
   "display_name": "minimal_ds",
   "language": "python",
   "name": "python3"
  },
  "language_info": {
   "codemirror_mode": {
    "name": "ipython",
    "version": 3
   },
   "file_extension": ".py",
   "mimetype": "text/x-python",
   "name": "python",
   "nbconvert_exporter": "python",
   "pygments_lexer": "ipython3",
   "version": "3.9.6"
  }
 },
 "nbformat": 4,
 "nbformat_minor": 2
}
